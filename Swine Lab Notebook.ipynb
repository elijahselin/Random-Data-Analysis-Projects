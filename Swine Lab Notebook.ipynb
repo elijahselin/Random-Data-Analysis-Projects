{
 "cells": [
  {
   "cell_type": "markdown",
   "metadata": {},
   "source": [
    "# DATA CLEANING"
   ]
  },
  {
   "cell_type": "code",
   "execution_count": 471,
   "metadata": {},
   "outputs": [
    {
     "data": {
      "text/html": [
       "<div>\n",
       "<style scoped>\n",
       "    .dataframe tbody tr th:only-of-type {\n",
       "        vertical-align: middle;\n",
       "    }\n",
       "\n",
       "    .dataframe tbody tr th {\n",
       "        vertical-align: top;\n",
       "    }\n",
       "\n",
       "    .dataframe thead th {\n",
       "        text-align: right;\n",
       "    }\n",
       "</style>\n",
       "<table border=\"1\" class=\"dataframe\">\n",
       "  <thead>\n",
       "    <tr style=\"text-align: right;\">\n",
       "      <th></th>\n",
       "      <th>Sow ID</th>\n",
       "      <th>Sow's Teat #</th>\n",
       "      <th>Litter #</th>\n",
       "      <th>Pig #</th>\n",
       "      <th>Sex</th>\n",
       "      <th>Teat #</th>\n",
       "      <th>Unnamed: 6</th>\n",
       "    </tr>\n",
       "  </thead>\n",
       "  <tbody>\n",
       "    <tr>\n",
       "      <th>0</th>\n",
       "      <td>461              Sow has very poor reproductiv...</td>\n",
       "      <td>15.0</td>\n",
       "      <td>1</td>\n",
       "      <td>15</td>\n",
       "      <td>barrow</td>\n",
       "      <td>NaN</td>\n",
       "      <td>NaN</td>\n",
       "    </tr>\n",
       "    <tr>\n",
       "      <th>1</th>\n",
       "      <td>NaN</td>\n",
       "      <td>NaN</td>\n",
       "      <td>6</td>\n",
       "      <td>14</td>\n",
       "      <td>gilt</td>\n",
       "      <td>13.0</td>\n",
       "      <td>NaN</td>\n",
       "    </tr>\n",
       "    <tr>\n",
       "      <th>2</th>\n",
       "      <td>NaN</td>\n",
       "      <td>NaN</td>\n",
       "      <td>1</td>\n",
       "      <td>7</td>\n",
       "      <td>barrow</td>\n",
       "      <td>NaN</td>\n",
       "      <td>NaN</td>\n",
       "    </tr>\n",
       "    <tr>\n",
       "      <th>3</th>\n",
       "      <td>NaN</td>\n",
       "      <td>NaN</td>\n",
       "      <td>7</td>\n",
       "      <td>3</td>\n",
       "      <td>gilt</td>\n",
       "      <td>14.0</td>\n",
       "      <td>NaN</td>\n",
       "    </tr>\n",
       "    <tr>\n",
       "      <th>4</th>\n",
       "      <td>NaN</td>\n",
       "      <td>NaN</td>\n",
       "      <td>3</td>\n",
       "      <td>15</td>\n",
       "      <td>barrow</td>\n",
       "      <td>NaN</td>\n",
       "      <td>NaN</td>\n",
       "    </tr>\n",
       "  </tbody>\n",
       "</table>\n",
       "</div>"
      ],
      "text/plain": [
       "                                              Sow ID  Sow's Teat #  Litter #  \\\n",
       "0  461              Sow has very poor reproductiv...          15.0         1   \n",
       "1                                                NaN           NaN         6   \n",
       "2                                                NaN           NaN         1   \n",
       "3                                                NaN           NaN         7   \n",
       "4                                                NaN           NaN         3   \n",
       "\n",
       "   Pig #     Sex  Teat # Unnamed: 6  \n",
       "0     15  barrow     NaN        NaN  \n",
       "1     14    gilt    13.0        NaN  \n",
       "2      7  barrow     NaN        NaN  \n",
       "3      3    gilt    14.0        NaN  \n",
       "4     15  barrow     NaN        NaN  "
      ]
     },
     "execution_count": 471,
     "metadata": {},
     "output_type": "execute_result"
    }
   ],
   "source": [
    "#import tools and data set\n",
    "import pandas as pd\n",
    "import numpy as np\n",
    "import matplotlib as mpl\n",
    "import matplotlib.pyplot as plt\n",
    "\n",
    "df = pd.read_excel(\"Teat Number Data_SP2021.xlsx\",\n",
    "                   skiprows = 1 #get rid of difficult column headers situation\n",
    "                  )\n",
    "df.head()\n",
    "\n",
    "#separate sow data from original data"
   ]
  },
  {
   "cell_type": "markdown",
   "metadata": {},
   "source": [
    "The Data cleaning process mostly just involves me adapting the data set that I got from you to be more friendly for use with the Python tools that I have at my disposal. I'm not going to spend a tone of time outlining what I did to do that in this document, but I will leave the comments to get a glimpse at what I was doing.\n",
    "\n",
    "### If you just want to see the pictures and data, skip to the Data Analysis heading below!\n",
    "\n",
    "There's alot of error messages in there. Something I'm doing with my code is frowned upon, but it is all working the way I intended it to."
   ]
  },
  {
   "cell_type": "code",
   "execution_count": 472,
   "metadata": {},
   "outputs": [
    {
     "data": {
      "text/html": [
       "<div>\n",
       "<style scoped>\n",
       "    .dataframe tbody tr th:only-of-type {\n",
       "        vertical-align: middle;\n",
       "    }\n",
       "\n",
       "    .dataframe tbody tr th {\n",
       "        vertical-align: top;\n",
       "    }\n",
       "\n",
       "    .dataframe thead th {\n",
       "        text-align: right;\n",
       "    }\n",
       "</style>\n",
       "<table border=\"1\" class=\"dataframe\">\n",
       "  <thead>\n",
       "    <tr style=\"text-align: right;\">\n",
       "      <th></th>\n",
       "      <th>Sow ID</th>\n",
       "      <th>Sow's Teat #</th>\n",
       "    </tr>\n",
       "  </thead>\n",
       "  <tbody>\n",
       "    <tr>\n",
       "      <th>0</th>\n",
       "      <td>461              Sow has very poor reproductiv...</td>\n",
       "      <td>15.0</td>\n",
       "    </tr>\n",
       "    <tr>\n",
       "      <th>1</th>\n",
       "      <td>NaN</td>\n",
       "      <td>NaN</td>\n",
       "    </tr>\n",
       "    <tr>\n",
       "      <th>2</th>\n",
       "      <td>NaN</td>\n",
       "      <td>NaN</td>\n",
       "    </tr>\n",
       "    <tr>\n",
       "      <th>3</th>\n",
       "      <td>NaN</td>\n",
       "      <td>NaN</td>\n",
       "    </tr>\n",
       "    <tr>\n",
       "      <th>4</th>\n",
       "      <td>NaN</td>\n",
       "      <td>NaN</td>\n",
       "    </tr>\n",
       "  </tbody>\n",
       "</table>\n",
       "</div>"
      ],
      "text/plain": [
       "                                              Sow ID  Sow's Teat #\n",
       "0  461              Sow has very poor reproductiv...          15.0\n",
       "1                                                NaN           NaN\n",
       "2                                                NaN           NaN\n",
       "3                                                NaN           NaN\n",
       "4                                                NaN           NaN"
      ]
     },
     "execution_count": 472,
     "metadata": {},
     "output_type": "execute_result"
    }
   ],
   "source": [
    "df_sow = df[[\"Sow ID\", \"Sow's Teat #\"]]\n",
    "df_sow.head()"
   ]
  },
  {
   "cell_type": "code",
   "execution_count": 473,
   "metadata": {},
   "outputs": [
    {
     "data": {
      "text/html": [
       "<div>\n",
       "<style scoped>\n",
       "    .dataframe tbody tr th:only-of-type {\n",
       "        vertical-align: middle;\n",
       "    }\n",
       "\n",
       "    .dataframe tbody tr th {\n",
       "        vertical-align: top;\n",
       "    }\n",
       "\n",
       "    .dataframe thead th {\n",
       "        text-align: right;\n",
       "    }\n",
       "</style>\n",
       "<table border=\"1\" class=\"dataframe\">\n",
       "  <thead>\n",
       "    <tr style=\"text-align: right;\">\n",
       "      <th></th>\n",
       "      <th>Litter #</th>\n",
       "      <th>Pig #</th>\n",
       "      <th>Sex</th>\n",
       "      <th>Teat #</th>\n",
       "      <th>Unnamed: 6</th>\n",
       "    </tr>\n",
       "  </thead>\n",
       "  <tbody>\n",
       "    <tr>\n",
       "      <th>0</th>\n",
       "      <td>1</td>\n",
       "      <td>15</td>\n",
       "      <td>barrow</td>\n",
       "      <td>NaN</td>\n",
       "      <td>NaN</td>\n",
       "    </tr>\n",
       "    <tr>\n",
       "      <th>1</th>\n",
       "      <td>6</td>\n",
       "      <td>14</td>\n",
       "      <td>gilt</td>\n",
       "      <td>13.0</td>\n",
       "      <td>NaN</td>\n",
       "    </tr>\n",
       "    <tr>\n",
       "      <th>2</th>\n",
       "      <td>1</td>\n",
       "      <td>7</td>\n",
       "      <td>barrow</td>\n",
       "      <td>NaN</td>\n",
       "      <td>NaN</td>\n",
       "    </tr>\n",
       "    <tr>\n",
       "      <th>3</th>\n",
       "      <td>7</td>\n",
       "      <td>3</td>\n",
       "      <td>gilt</td>\n",
       "      <td>14.0</td>\n",
       "      <td>NaN</td>\n",
       "    </tr>\n",
       "    <tr>\n",
       "      <th>4</th>\n",
       "      <td>3</td>\n",
       "      <td>15</td>\n",
       "      <td>barrow</td>\n",
       "      <td>NaN</td>\n",
       "      <td>NaN</td>\n",
       "    </tr>\n",
       "  </tbody>\n",
       "</table>\n",
       "</div>"
      ],
      "text/plain": [
       "   Litter #  Pig #     Sex  Teat # Unnamed: 6\n",
       "0         1     15  barrow     NaN        NaN\n",
       "1         6     14    gilt    13.0        NaN\n",
       "2         1      7  barrow     NaN        NaN\n",
       "3         7      3    gilt    14.0        NaN\n",
       "4         3     15  barrow     NaN        NaN"
      ]
     },
     "execution_count": 473,
     "metadata": {},
     "output_type": "execute_result"
    }
   ],
   "source": [
    "df_litter = df[[\"Litter #\", \"Pig #\", \"Sex\", \"Teat #\", \"Unnamed: 6\"]]\n",
    "df_litter.head()"
   ]
  },
  {
   "cell_type": "code",
   "execution_count": 474,
   "metadata": {},
   "outputs": [
    {
     "name": "stderr",
     "output_type": "stream",
     "text": [
      "<ipython-input-474-ec584d4d52f1>:28: SettingWithCopyWarning: \n",
      "A value is trying to be set on a copy of a slice from a DataFrame\n",
      "\n",
      "See the caveats in the documentation: https://pandas.pydata.org/pandas-docs/stable/user_guide/indexing.html#returning-a-view-versus-a-copy\n",
      "  df_sow.dropna(how = 'all', inplace = True)\n",
      "<ipython-input-474-ec584d4d52f1>:29: SettingWithCopyWarning: \n",
      "A value is trying to be set on a copy of a slice from a DataFrame.\n",
      "Try using .loc[row_indexer,col_indexer] = value instead\n",
      "\n",
      "See the caveats in the documentation: https://pandas.pydata.org/pandas-docs/stable/user_guide/indexing.html#returning-a-view-versus-a-copy\n",
      "  df_sow[\"Piglet Count\"] = piglet_count_list\n"
     ]
    }
   ],
   "source": [
    "#need to find the number of piglets for each sow... \n",
    "\n",
    "#find the index of each of the sow's ids, the space between sow ID's indicates the number of piglets\n",
    "piglet_count_list = []\n",
    "piglet_count = 0\n",
    "false_count = 0\n",
    "\n",
    "sow_list = df_sow[\"Sow ID\"].isna().tolist()\n",
    "#add an extra false at the end to terminate the piglet count on the last sow\n",
    "sow_list.append(False)\n",
    "\n",
    "for n in sow_list:\n",
    "    \n",
    "    if n == False:\n",
    "        false_count = false_count + 1\n",
    "        \n",
    "        if false_count > 1:\n",
    "            piglet_count_list.append(piglet_count)\n",
    "            piglet_count = 1\n",
    "            \n",
    "        if false_count == 1:\n",
    "            piglet_count = 1\n",
    "            \n",
    "    if n == True:\n",
    "        piglet_count  = piglet_count + 1\n",
    "        \n",
    "#create a new column in the sow dataframe that assigns the piglet counts to their respective sows\n",
    "df_sow.dropna(how = 'all', inplace = True)\n",
    "df_sow[\"Piglet Count\"] = piglet_count_list\n",
    "df_sow.reset_index(drop = True, inplace = True)"
   ]
  },
  {
   "cell_type": "code",
   "execution_count": 475,
   "metadata": {},
   "outputs": [
    {
     "name": "stderr",
     "output_type": "stream",
     "text": [
      "F:\\Programming\\Anaconda3\\lib\\site-packages\\pandas\\core\\indexing.py:845: SettingWithCopyWarning: \n",
      "A value is trying to be set on a copy of a slice from a DataFrame.\n",
      "Try using .loc[row_indexer,col_indexer] = value instead\n",
      "\n",
      "See the caveats in the documentation: https://pandas.pydata.org/pandas-docs/stable/user_guide/indexing.html#returning-a-view-versus-a-copy\n",
      "  self.obj[key] = _infer_fill_value(value)\n",
      "F:\\Programming\\Anaconda3\\lib\\site-packages\\pandas\\core\\indexing.py:966: SettingWithCopyWarning: \n",
      "A value is trying to be set on a copy of a slice from a DataFrame.\n",
      "Try using .loc[row_indexer,col_indexer] = value instead\n",
      "\n",
      "See the caveats in the documentation: https://pandas.pydata.org/pandas-docs/stable/user_guide/indexing.html#returning-a-view-versus-a-copy\n",
      "  self.obj[item] = s\n"
     ]
    }
   ],
   "source": [
    "# add a comments column to separate the comments from the sow ID column\n",
    "correctionList = [0, 3, 7, 11]\n",
    "comment_dict = {}\n",
    "\n",
    "# for each of the troublesome rows, extract the comment from the ID and put in the comments column\n",
    "for n in correctionList:\n",
    "    comment = df_sow.iloc[n][\"Sow ID\"][17:]\n",
    "    sowID = df_sow.iloc[n][\"Sow ID\"][:3]\n",
    "    df_sow.at[n, \"Sow ID\"] = sowID\n",
    "    df_sow.at[n, \"Comments\"] = comment\n",
    "    \n",
    "#Sow # 291 was especially bad, will do that one very specifically\n",
    "df_sow.at[7, \"Sow ID\"] = 291\n",
    "df_sow.at[7, \"Comments\"] = \"Small bump on the sow's left shoulder area; appears to look like a small abscess\""
   ]
  },
  {
   "cell_type": "code",
   "execution_count": 476,
   "metadata": {},
   "outputs": [
    {
     "name": "stderr",
     "output_type": "stream",
     "text": [
      "<ipython-input-476-4d1200a3291a>:1: SettingWithCopyWarning: \n",
      "A value is trying to be set on a copy of a slice from a DataFrame.\n",
      "Try using .loc[row_indexer,col_indexer] = value instead\n",
      "\n",
      "See the caveats in the documentation: https://pandas.pydata.org/pandas-docs/stable/user_guide/indexing.html#returning-a-view-versus-a-copy\n",
      "  df_sow[\"Sow's Teat #\"] = df_sow[\"Sow's Teat #\"].astype(int)\n",
      "<ipython-input-476-4d1200a3291a>:2: SettingWithCopyWarning: \n",
      "A value is trying to be set on a copy of a slice from a DataFrame.\n",
      "Try using .loc[row_indexer,col_indexer] = value instead\n",
      "\n",
      "See the caveats in the documentation: https://pandas.pydata.org/pandas-docs/stable/user_guide/indexing.html#returning-a-view-versus-a-copy\n",
      "  df_sow['Sow ID'] = df_sow['Sow ID'].astype(str)\n"
     ]
    }
   ],
   "source": [
    "df_sow[\"Sow's Teat #\"] = df_sow[\"Sow's Teat #\"].astype(int)\n",
    "df_sow['Sow ID'] = df_sow['Sow ID'].astype(str)"
   ]
  },
  {
   "cell_type": "code",
   "execution_count": 477,
   "metadata": {},
   "outputs": [
    {
     "name": "stderr",
     "output_type": "stream",
     "text": [
      "F:\\Programming\\Anaconda3\\lib\\site-packages\\pandas\\core\\frame.py:4125: SettingWithCopyWarning: \n",
      "A value is trying to be set on a copy of a slice from a DataFrame\n",
      "\n",
      "See the caveats in the documentation: https://pandas.pydata.org/pandas-docs/stable/user_guide/indexing.html#returning-a-view-versus-a-copy\n",
      "  return super().rename(\n"
     ]
    }
   ],
   "source": [
    "#rename the comments column to comments\n",
    "df_litter.rename(columns = {\"Unnamed: 6\" : \"Comments\"}, inplace = True)"
   ]
  },
  {
   "cell_type": "code",
   "execution_count": 478,
   "metadata": {},
   "outputs": [],
   "source": [
    "# attach a sow ID to their respective piglets\n",
    "\n",
    "piglet_count_list = df_sow[\"Piglet Count\"].to_list()\n",
    "\n",
    "#create a list of ranges of indexes that indicate the start and stop of a sows piglets\n",
    "count = 0\n",
    "index_list = [0]\n",
    "for n in piglet_count_list:\n",
    "    count = count + n\n",
    "    index_list.append(count)"
   ]
  },
  {
   "cell_type": "code",
   "execution_count": 479,
   "metadata": {},
   "outputs": [
    {
     "name": "stderr",
     "output_type": "stream",
     "text": [
      "<ipython-input-479-9c570996ef98>:9: SettingWithCopyWarning: \n",
      "A value is trying to be set on a copy of a slice from a DataFrame.\n",
      "Try using .loc[row_indexer,col_indexer] = value instead\n",
      "\n",
      "See the caveats in the documentation: https://pandas.pydata.org/pandas-docs/stable/user_guide/indexing.html#returning-a-view-versus-a-copy\n",
      "  df_litter[\"Sow ID\"] = sowID_list\n"
     ]
    }
   ],
   "source": [
    "index = 0\n",
    "sowID_list = []\n",
    "for n in range(0,133):\n",
    "    if n > index_list[index + 1]-1:\n",
    "        index = index + 1\n",
    "    sowID = df_sow.iloc[index][\"Sow ID\"]\n",
    "    sowID_list.append(sowID)\n",
    "    \n",
    "df_litter[\"Sow ID\"] = sowID_list"
   ]
  },
  {
   "cell_type": "code",
   "execution_count": 480,
   "metadata": {},
   "outputs": [],
   "source": [
    "#reset sow index as sow id at the end\n",
    "df_sow.set_index(\"Sow ID\", inplace = True)"
   ]
  },
  {
   "cell_type": "code",
   "execution_count": 481,
   "metadata": {},
   "outputs": [],
   "source": [
    "# sex of piglet changed to dummy variables\n",
    "df_litter = df_litter.join(pd.get_dummies(df_litter[\"Sex\"]))\n",
    "df_litter.drop(labels = \"Sex\", axis = 1, inplace = True)"
   ]
  },
  {
   "cell_type": "code",
   "execution_count": 482,
   "metadata": {},
   "outputs": [
    {
     "data": {
      "text/html": [
       "<div>\n",
       "<style scoped>\n",
       "    .dataframe tbody tr th:only-of-type {\n",
       "        vertical-align: middle;\n",
       "    }\n",
       "\n",
       "    .dataframe tbody tr th {\n",
       "        vertical-align: top;\n",
       "    }\n",
       "\n",
       "    .dataframe thead th {\n",
       "        text-align: right;\n",
       "    }\n",
       "</style>\n",
       "<table border=\"1\" class=\"dataframe\">\n",
       "  <thead>\n",
       "    <tr style=\"text-align: right;\">\n",
       "      <th></th>\n",
       "      <th>Sow's Teat #</th>\n",
       "      <th>Piglet Count</th>\n",
       "      <th>Comments</th>\n",
       "    </tr>\n",
       "    <tr>\n",
       "      <th>Sow ID</th>\n",
       "      <th></th>\n",
       "      <th></th>\n",
       "      <th></th>\n",
       "    </tr>\n",
       "  </thead>\n",
       "  <tbody>\n",
       "    <tr>\n",
       "      <th>461</th>\n",
       "      <td>15</td>\n",
       "      <td>11</td>\n",
       "      <td>Sow has very poor reproductive conformation</td>\n",
       "    </tr>\n",
       "    <tr>\n",
       "      <th>181-202</th>\n",
       "      <td>14</td>\n",
       "      <td>13</td>\n",
       "      <td>NaN</td>\n",
       "    </tr>\n",
       "    <tr>\n",
       "      <th>189</th>\n",
       "      <td>13</td>\n",
       "      <td>9</td>\n",
       "      <td>NaN</td>\n",
       "    </tr>\n",
       "    <tr>\n",
       "      <th>196</th>\n",
       "      <td>14</td>\n",
       "      <td>7</td>\n",
       "      <td>Sow has really poor hoof/foot conformation</td>\n",
       "    </tr>\n",
       "    <tr>\n",
       "      <th>200</th>\n",
       "      <td>13</td>\n",
       "      <td>12</td>\n",
       "      <td>NaN</td>\n",
       "    </tr>\n",
       "    <tr>\n",
       "      <th>284</th>\n",
       "      <td>15</td>\n",
       "      <td>12</td>\n",
       "      <td>NaN</td>\n",
       "    </tr>\n",
       "    <tr>\n",
       "      <th>220</th>\n",
       "      <td>13</td>\n",
       "      <td>13</td>\n",
       "      <td>NaN</td>\n",
       "    </tr>\n",
       "    <tr>\n",
       "      <th>291</th>\n",
       "      <td>14</td>\n",
       "      <td>11</td>\n",
       "      <td>Small bump on the sow's left shoulder area; ap...</td>\n",
       "    </tr>\n",
       "    <tr>\n",
       "      <th>115-8</th>\n",
       "      <td>14</td>\n",
       "      <td>10</td>\n",
       "      <td>NaN</td>\n",
       "    </tr>\n",
       "    <tr>\n",
       "      <th>411</th>\n",
       "      <td>16</td>\n",
       "      <td>9</td>\n",
       "      <td>NaN</td>\n",
       "    </tr>\n",
       "    <tr>\n",
       "      <th>293</th>\n",
       "      <td>15</td>\n",
       "      <td>11</td>\n",
       "      <td>NaN</td>\n",
       "    </tr>\n",
       "    <tr>\n",
       "      <th>300</th>\n",
       "      <td>14</td>\n",
       "      <td>15</td>\n",
       "      <td>Sow has laceration on teat end on right side; ...</td>\n",
       "    </tr>\n",
       "  </tbody>\n",
       "</table>\n",
       "</div>"
      ],
      "text/plain": [
       "         Sow's Teat #  Piglet Count  \\\n",
       "Sow ID                                \n",
       "461                15            11   \n",
       "181-202            14            13   \n",
       "189                13             9   \n",
       "196                14             7   \n",
       "200                13            12   \n",
       "284                15            12   \n",
       "220                13            13   \n",
       "291                14            11   \n",
       "115-8              14            10   \n",
       "411                16             9   \n",
       "293                15            11   \n",
       "300                14            15   \n",
       "\n",
       "                                                  Comments  \n",
       "Sow ID                                                      \n",
       "461            Sow has very poor reproductive conformation  \n",
       "181-202                                                NaN  \n",
       "189                                                    NaN  \n",
       "196             Sow has really poor hoof/foot conformation  \n",
       "200                                                    NaN  \n",
       "284                                                    NaN  \n",
       "220                                                    NaN  \n",
       "291      Small bump on the sow's left shoulder area; ap...  \n",
       "115-8                                                  NaN  \n",
       "411                                                    NaN  \n",
       "293                                                    NaN  \n",
       "300      Sow has laceration on teat end on right side; ...  "
      ]
     },
     "metadata": {},
     "output_type": "display_data"
    },
    {
     "data": {
      "text/html": [
       "<div>\n",
       "<style scoped>\n",
       "    .dataframe tbody tr th:only-of-type {\n",
       "        vertical-align: middle;\n",
       "    }\n",
       "\n",
       "    .dataframe tbody tr th {\n",
       "        vertical-align: top;\n",
       "    }\n",
       "\n",
       "    .dataframe thead th {\n",
       "        text-align: right;\n",
       "    }\n",
       "</style>\n",
       "<table border=\"1\" class=\"dataframe\">\n",
       "  <thead>\n",
       "    <tr style=\"text-align: right;\">\n",
       "      <th></th>\n",
       "      <th>Litter #</th>\n",
       "      <th>Pig #</th>\n",
       "      <th>Teat #</th>\n",
       "      <th>Comments</th>\n",
       "      <th>Sow ID</th>\n",
       "      <th>barrow</th>\n",
       "      <th>gilt</th>\n",
       "    </tr>\n",
       "  </thead>\n",
       "  <tbody>\n",
       "    <tr>\n",
       "      <th>0</th>\n",
       "      <td>1</td>\n",
       "      <td>15</td>\n",
       "      <td>NaN</td>\n",
       "      <td>NaN</td>\n",
       "      <td>461</td>\n",
       "      <td>1</td>\n",
       "      <td>0</td>\n",
       "    </tr>\n",
       "    <tr>\n",
       "      <th>1</th>\n",
       "      <td>6</td>\n",
       "      <td>14</td>\n",
       "      <td>13.0</td>\n",
       "      <td>NaN</td>\n",
       "      <td>461</td>\n",
       "      <td>0</td>\n",
       "      <td>1</td>\n",
       "    </tr>\n",
       "    <tr>\n",
       "      <th>2</th>\n",
       "      <td>1</td>\n",
       "      <td>7</td>\n",
       "      <td>NaN</td>\n",
       "      <td>NaN</td>\n",
       "      <td>461</td>\n",
       "      <td>1</td>\n",
       "      <td>0</td>\n",
       "    </tr>\n",
       "    <tr>\n",
       "      <th>3</th>\n",
       "      <td>7</td>\n",
       "      <td>3</td>\n",
       "      <td>14.0</td>\n",
       "      <td>NaN</td>\n",
       "      <td>461</td>\n",
       "      <td>0</td>\n",
       "      <td>1</td>\n",
       "    </tr>\n",
       "    <tr>\n",
       "      <th>4</th>\n",
       "      <td>3</td>\n",
       "      <td>15</td>\n",
       "      <td>NaN</td>\n",
       "      <td>NaN</td>\n",
       "      <td>461</td>\n",
       "      <td>1</td>\n",
       "      <td>0</td>\n",
       "    </tr>\n",
       "    <tr>\n",
       "      <th>...</th>\n",
       "      <td>...</td>\n",
       "      <td>...</td>\n",
       "      <td>...</td>\n",
       "      <td>...</td>\n",
       "      <td>...</td>\n",
       "      <td>...</td>\n",
       "      <td>...</td>\n",
       "    </tr>\n",
       "    <tr>\n",
       "      <th>128</th>\n",
       "      <td>1</td>\n",
       "      <td>7</td>\n",
       "      <td>NaN</td>\n",
       "      <td>NaN</td>\n",
       "      <td>300</td>\n",
       "      <td>1</td>\n",
       "      <td>0</td>\n",
       "    </tr>\n",
       "    <tr>\n",
       "      <th>129</th>\n",
       "      <td>1</td>\n",
       "      <td>8</td>\n",
       "      <td>NaN</td>\n",
       "      <td>NaN</td>\n",
       "      <td>300</td>\n",
       "      <td>1</td>\n",
       "      <td>0</td>\n",
       "    </tr>\n",
       "    <tr>\n",
       "      <th>130</th>\n",
       "      <td>1</td>\n",
       "      <td>15</td>\n",
       "      <td>NaN</td>\n",
       "      <td>NaN</td>\n",
       "      <td>300</td>\n",
       "      <td>1</td>\n",
       "      <td>0</td>\n",
       "    </tr>\n",
       "    <tr>\n",
       "      <th>131</th>\n",
       "      <td>1</td>\n",
       "      <td>14</td>\n",
       "      <td>NaN</td>\n",
       "      <td>NaN</td>\n",
       "      <td>300</td>\n",
       "      <td>1</td>\n",
       "      <td>0</td>\n",
       "    </tr>\n",
       "    <tr>\n",
       "      <th>132</th>\n",
       "      <td>1</td>\n",
       "      <td>5</td>\n",
       "      <td>14.0</td>\n",
       "      <td>NaN</td>\n",
       "      <td>300</td>\n",
       "      <td>0</td>\n",
       "      <td>1</td>\n",
       "    </tr>\n",
       "  </tbody>\n",
       "</table>\n",
       "<p>133 rows × 7 columns</p>\n",
       "</div>"
      ],
      "text/plain": [
       "     Litter #  Pig #  Teat # Comments Sow ID  barrow  gilt\n",
       "0           1     15     NaN      NaN    461       1     0\n",
       "1           6     14    13.0      NaN    461       0     1\n",
       "2           1      7     NaN      NaN    461       1     0\n",
       "3           7      3    14.0      NaN    461       0     1\n",
       "4           3     15     NaN      NaN    461       1     0\n",
       "..        ...    ...     ...      ...    ...     ...   ...\n",
       "128         1      7     NaN      NaN    300       1     0\n",
       "129         1      8     NaN      NaN    300       1     0\n",
       "130         1     15     NaN      NaN    300       1     0\n",
       "131         1     14     NaN      NaN    300       1     0\n",
       "132         1      5    14.0      NaN    300       0     1\n",
       "\n",
       "[133 rows x 7 columns]"
      ]
     },
     "execution_count": 482,
     "metadata": {},
     "output_type": "execute_result"
    }
   ],
   "source": [
    "#final\n",
    "df_sow.to_excel(\"Sow Data.xlsx\")\n",
    "df_litter.to_excel(\"Piglet Data.xlsx\")\n",
    "display(df_sow)\n",
    "df_litter"
   ]
  },
  {
   "cell_type": "markdown",
   "metadata": {},
   "source": [
    "# DATA ANALYSIS"
   ]
  },
  {
   "cell_type": "markdown",
   "metadata": {},
   "source": [
    "Here is the interesting part. I created some histograms and bar charts that might be somewhat interesting. Most notably is the 2 overlayed histograms showing the sow Teat count distribution against the distribution of litter sizes. From that it is pretty clear how often sows have more teats then they have piglets, though some overlap does exist.\n",
    "\n",
    "Because this data set didn't have very many variables to play with, I couldn't come up with a way to apply predictive models. If there had been away, there would be some regression plots to look at and a process for coming up with equations to predict attributes of the dataset.\n",
    "\n",
    "Nonetheless, hopefully the diagrams interest you. :)\n",
    "\n",
    "First is some basic statistics on sows, which include in order from top to bottom:\n",
    "1. the number of values\n",
    "2. the mean of the values\n",
    "3. the standard deviation\n",
    "4. the minimum\n",
    "5. the first quartile\n",
    "6. the median\n",
    "7. the third quartile\n",
    "8. the maximum"
   ]
  },
  {
   "cell_type": "code",
   "execution_count": 483,
   "metadata": {},
   "outputs": [
    {
     "data": {
      "text/html": [
       "<div>\n",
       "<style scoped>\n",
       "    .dataframe tbody tr th:only-of-type {\n",
       "        vertical-align: middle;\n",
       "    }\n",
       "\n",
       "    .dataframe tbody tr th {\n",
       "        vertical-align: top;\n",
       "    }\n",
       "\n",
       "    .dataframe thead th {\n",
       "        text-align: right;\n",
       "    }\n",
       "</style>\n",
       "<table border=\"1\" class=\"dataframe\">\n",
       "  <thead>\n",
       "    <tr style=\"text-align: right;\">\n",
       "      <th></th>\n",
       "      <th>Sow's Teat #</th>\n",
       "      <th>Piglet Count</th>\n",
       "    </tr>\n",
       "  </thead>\n",
       "  <tbody>\n",
       "    <tr>\n",
       "      <th>count</th>\n",
       "      <td>12.000000</td>\n",
       "      <td>12.000000</td>\n",
       "    </tr>\n",
       "    <tr>\n",
       "      <th>mean</th>\n",
       "      <td>14.166667</td>\n",
       "      <td>11.083333</td>\n",
       "    </tr>\n",
       "    <tr>\n",
       "      <th>std</th>\n",
       "      <td>0.937437</td>\n",
       "      <td>2.151462</td>\n",
       "    </tr>\n",
       "    <tr>\n",
       "      <th>min</th>\n",
       "      <td>13.000000</td>\n",
       "      <td>7.000000</td>\n",
       "    </tr>\n",
       "    <tr>\n",
       "      <th>25%</th>\n",
       "      <td>13.750000</td>\n",
       "      <td>9.750000</td>\n",
       "    </tr>\n",
       "    <tr>\n",
       "      <th>50%</th>\n",
       "      <td>14.000000</td>\n",
       "      <td>11.000000</td>\n",
       "    </tr>\n",
       "    <tr>\n",
       "      <th>75%</th>\n",
       "      <td>15.000000</td>\n",
       "      <td>12.250000</td>\n",
       "    </tr>\n",
       "    <tr>\n",
       "      <th>max</th>\n",
       "      <td>16.000000</td>\n",
       "      <td>15.000000</td>\n",
       "    </tr>\n",
       "  </tbody>\n",
       "</table>\n",
       "</div>"
      ],
      "text/plain": [
       "       Sow's Teat #  Piglet Count\n",
       "count     12.000000     12.000000\n",
       "mean      14.166667     11.083333\n",
       "std        0.937437      2.151462\n",
       "min       13.000000      7.000000\n",
       "25%       13.750000      9.750000\n",
       "50%       14.000000     11.000000\n",
       "75%       15.000000     12.250000\n",
       "max       16.000000     15.000000"
      ]
     },
     "execution_count": 483,
     "metadata": {},
     "output_type": "execute_result"
    }
   ],
   "source": [
    "#basic sow statistics\n",
    "df_sow.describe()"
   ]
  },
  {
   "cell_type": "markdown",
   "metadata": {},
   "source": [
    "Here are the same statistics for the litter. I split the sex column into \"barrows\" and \"gilts\" using one hot encoding to make analysis easier. For example, the mean for barrows can also be interpreted as the percentage of barrows in this set of piglets.\n",
    "\n",
    "(As I understand, litter # and pig # are ID numbers and probably can be dropped from the dataset, but I kept them because I wasn't sure if I could use them for something.)"
   ]
  },
  {
   "cell_type": "code",
   "execution_count": 484,
   "metadata": {},
   "outputs": [
    {
     "data": {
      "text/html": [
       "<div>\n",
       "<style scoped>\n",
       "    .dataframe tbody tr th:only-of-type {\n",
       "        vertical-align: middle;\n",
       "    }\n",
       "\n",
       "    .dataframe tbody tr th {\n",
       "        vertical-align: top;\n",
       "    }\n",
       "\n",
       "    .dataframe thead th {\n",
       "        text-align: right;\n",
       "    }\n",
       "</style>\n",
       "<table border=\"1\" class=\"dataframe\">\n",
       "  <thead>\n",
       "    <tr style=\"text-align: right;\">\n",
       "      <th></th>\n",
       "      <th>Litter #</th>\n",
       "      <th>Pig #</th>\n",
       "      <th>Teat #</th>\n",
       "      <th>barrow</th>\n",
       "      <th>gilt</th>\n",
       "    </tr>\n",
       "  </thead>\n",
       "  <tbody>\n",
       "    <tr>\n",
       "      <th>count</th>\n",
       "      <td>133.000000</td>\n",
       "      <td>133.000000</td>\n",
       "      <td>65.000000</td>\n",
       "      <td>133.000000</td>\n",
       "      <td>133.000000</td>\n",
       "    </tr>\n",
       "    <tr>\n",
       "      <th>mean</th>\n",
       "      <td>6.187970</td>\n",
       "      <td>6.714286</td>\n",
       "      <td>13.692308</td>\n",
       "      <td>0.511278</td>\n",
       "      <td>0.488722</td>\n",
       "    </tr>\n",
       "    <tr>\n",
       "      <th>std</th>\n",
       "      <td>3.705341</td>\n",
       "      <td>4.098358</td>\n",
       "      <td>1.402265</td>\n",
       "      <td>0.501763</td>\n",
       "      <td>0.501763</td>\n",
       "    </tr>\n",
       "    <tr>\n",
       "      <th>min</th>\n",
       "      <td>1.000000</td>\n",
       "      <td>0.000000</td>\n",
       "      <td>11.000000</td>\n",
       "      <td>0.000000</td>\n",
       "      <td>0.000000</td>\n",
       "    </tr>\n",
       "    <tr>\n",
       "      <th>25%</th>\n",
       "      <td>3.000000</td>\n",
       "      <td>3.000000</td>\n",
       "      <td>12.000000</td>\n",
       "      <td>0.000000</td>\n",
       "      <td>0.000000</td>\n",
       "    </tr>\n",
       "    <tr>\n",
       "      <th>50%</th>\n",
       "      <td>6.000000</td>\n",
       "      <td>6.000000</td>\n",
       "      <td>14.000000</td>\n",
       "      <td>1.000000</td>\n",
       "      <td>0.000000</td>\n",
       "    </tr>\n",
       "    <tr>\n",
       "      <th>75%</th>\n",
       "      <td>9.000000</td>\n",
       "      <td>10.000000</td>\n",
       "      <td>15.000000</td>\n",
       "      <td>1.000000</td>\n",
       "      <td>1.000000</td>\n",
       "    </tr>\n",
       "    <tr>\n",
       "      <th>max</th>\n",
       "      <td>16.000000</td>\n",
       "      <td>18.000000</td>\n",
       "      <td>16.000000</td>\n",
       "      <td>1.000000</td>\n",
       "      <td>1.000000</td>\n",
       "    </tr>\n",
       "  </tbody>\n",
       "</table>\n",
       "</div>"
      ],
      "text/plain": [
       "         Litter #       Pig #     Teat #      barrow        gilt\n",
       "count  133.000000  133.000000  65.000000  133.000000  133.000000\n",
       "mean     6.187970    6.714286  13.692308    0.511278    0.488722\n",
       "std      3.705341    4.098358   1.402265    0.501763    0.501763\n",
       "min      1.000000    0.000000  11.000000    0.000000    0.000000\n",
       "25%      3.000000    3.000000  12.000000    0.000000    0.000000\n",
       "50%      6.000000    6.000000  14.000000    1.000000    0.000000\n",
       "75%      9.000000   10.000000  15.000000    1.000000    1.000000\n",
       "max     16.000000   18.000000  16.000000    1.000000    1.000000"
      ]
     },
     "execution_count": 484,
     "metadata": {},
     "output_type": "execute_result"
    }
   ],
   "source": [
    "#basic litter statistics\n",
    "df_litter.describe()"
   ]
  },
  {
   "cell_type": "markdown",
   "metadata": {},
   "source": [
    "This first graphic is simply a recreation of the bar chart you had in your homework sheet."
   ]
  },
  {
   "cell_type": "code",
   "execution_count": 485,
   "metadata": {},
   "outputs": [
    {
     "data": {
      "text/plain": [
       "<function matplotlib.pyplot.show(*args, **kw)>"
      ]
     },
     "execution_count": 485,
     "metadata": {},
     "output_type": "execute_result"
    },
    {
     "data": {
      "image/png": "[encoded data removed]",
      "text/plain": [
       "<Figure size 432x432 with 1 Axes>"
      ]
     },
     "metadata": {
      "needs_background": "light"
     },
     "output_type": "display_data"
    }
   ],
   "source": [
    "# a recreation of the bar chart in the submitted homework spreadsheet\n",
    "df_teat_mean = df_litter.groupby(by = \"Sow ID\", axis = 0).mean()[\"Teat #\"]\n",
    "df_teat_mean = df_teat_mean - 11\n",
    "\n",
    "df_teat_mean.plot(kind = 'bar',\n",
    "                  bottom = 11,\n",
    "                  figsize = (6,6)\n",
    "                 )\n",
    "\n",
    "plt.title(\"Average Teat Number per Litter\")\n",
    "plt.xlabel(\"Sow ID\")\n",
    "plt.ylabel(\"Average Teat #\")\n",
    "plt.savefig(\"Average Teat Number per Litter.png\")\n",
    "plt.show\n",
    "\n",
    "# the bars aren't in the exact same place as the ones in the homework spreadsheet by the values should be the same."
   ]
  },
  {
   "cell_type": "markdown",
   "metadata": {},
   "source": [
    "This is a histogram of the Piglet Teat count, which I thought might compliment the data you had in your homework on average teat counts for each of the sows litters."
   ]
  },
  {
   "cell_type": "code",
   "execution_count": 486,
   "metadata": {},
   "outputs": [
    {
     "data": {
      "image/png": "[encoded data removed]",
      "text/plain": [
       "<Figure size 432x432 with 1 Axes>"
      ]
     },
     "metadata": {
      "needs_background": "light"
     },
     "output_type": "display_data"
    }
   ],
   "source": [
    "bin_edges = list(range(10,18))\n",
    "df_litter[\"Teat #\"].plot(kind = 'hist',\n",
    "                         xticks = bin_edges,\n",
    "                         figsize = (6,6),\n",
    "                         bins = 5\n",
    "                        )\n",
    "plt.title(\"Distribution of Piglet Teat Count\")\n",
    "plt.xlabel(\"# of Teats\")\n",
    "plt.ylabel(\"# of Piglets\")\n",
    "plt.savefig(\"Distribution of Piglet Teat Count.png\")\n",
    "plt.show()"
   ]
  },
  {
   "cell_type": "markdown",
   "metadata": {},
   "source": [
    "This graphic is an attempt to explore the relationship between the sow's teat count and the size of their litters. It can be seen that the distribution of the sows teat count lies on the upper extreme of the distribution of litter size."
   ]
  },
  {
   "cell_type": "code",
   "execution_count": 487,
   "metadata": {},
   "outputs": [
    {
     "data": {
      "image/png": "[encoded data removed]",
      "text/plain": [
       "<Figure size 432x432 with 1 Axes>"
      ]
     },
     "metadata": {
      "needs_background": "light"
     },
     "output_type": "display_data"
    }
   ],
   "source": [
    "bin_edges = list(range(6,18))\n",
    "plt.figure(figsize = (6,6))\n",
    "plt.hist(df_sow[\"Piglet Count\"], bins = 8, alpha = 0.5, label = \"# of piglets in litter\")\n",
    "plt.hist(df_sow[\"Sow's Teat #\"], bins = 3, alpha = 0.5, label = \"# of Teats on Sow\")\n",
    "\n",
    "plt.xticks(ticks = bin_edges)\n",
    "plt.xlabel(\"Count\")\n",
    "plt.ylabel(\"# of Sows/Litters\")\n",
    "plt.title(\"Sow Teat # Distribution vs. Litter Size Distribution\")\n",
    "plt.legend(loc = 'upper left')\n",
    "plt.savefig(\"Sow Teat # Distribution vs Litter Size Distribution.png\")\n",
    "plt.show()"
   ]
  },
  {
   "cell_type": "markdown",
   "metadata": {},
   "source": [
    "This is a stacked bar chart that shows litter size for each sow, and the ratio of gilts to barrows within each litter."
   ]
  },
  {
   "cell_type": "code",
   "execution_count": 488,
   "metadata": {},
   "outputs": [
    {
     "data": {
      "image/png": "[encoded data removed]",
      "text/plain": [
       "<Figure size 648x432 with 1 Axes>"
      ]
     },
     "metadata": {
      "needs_background": "light"
     },
     "output_type": "display_data"
    }
   ],
   "source": [
    "#extract the count of gilts and barrows for each sow\n",
    "\n",
    "df_sex_ratio = df_litter.groupby(by = \"Sow ID\", axis =0).sum()[['barrow', 'gilt']]\n",
    "sow_ID_list = df_sex_ratio.index.to_list()\n",
    "barrow_list = df_sex_ratio[\"barrow\"].to_list()\n",
    "gilt_list = df_sex_ratio[\"gilt\"].to_list()\n",
    "\n",
    "fig, ax = plt.subplots(figsize = (9,6))\n",
    "ax.bar(sow_ID_list, gilt_list, label = \"Gilts\")\n",
    "ax.bar(sow_ID_list, barrow_list, bottom = gilt_list, label = \"Barrows\")\n",
    "\n",
    "ax.set_ylabel(\"Number\")\n",
    "ax.set_xlabel(\"Sow ID\")\n",
    "ax.set_title(\"Barrows and Gilts to each Sow\")\n",
    "ax.legend()\n",
    "plt.savefig(\"Barrows and Gilts to each Sow.png\")\n",
    "plt.show()"
   ]
  },
  {
   "cell_type": "markdown",
   "metadata": {},
   "source": [
    "Here I made another histogram that includes the teat counts for both the sows and piglets to get a look at the distribution of teat counts across the entire sample."
   ]
  },
  {
   "cell_type": "code",
   "execution_count": 489,
   "metadata": {},
   "outputs": [
    {
     "data": {
      "image/png": "[encoded data removed]",
      "text/plain": [
       "<Figure size 432x432 with 1 Axes>"
      ]
     },
     "metadata": {
      "needs_background": "light"
     },
     "output_type": "display_data"
    }
   ],
   "source": [
    "sow_teat = df_sow[\"Sow's Teat #\"].to_list()\n",
    "piglet_teat = df_litter[\"Teat #\"].dropna().astype(int).to_list()\n",
    "teat = sow_teat+piglet_teat\n",
    "\n",
    "bin_edges = list(range(10,18))\n",
    "plt.figure(figsize = (6,6),)\n",
    "plt.hist(x = teat,\n",
    "         bins = 5,\n",
    "        )\n",
    "plt.xticks(ticks = bin_edges)\n",
    "plt.title(\"Distribution of # of Teats on a Pig (Piglets and Sows)\")\n",
    "plt.xlabel(\"# of Teats\")\n",
    "plt.ylabel(\"# of pigs\")\n",
    "plt.savefig(\"Distribution of # of Teats on a Pig (Piglets and Sows).png\")\n",
    "plt.show()"
   ]
  },
  {
   "cell_type": "markdown",
   "metadata": {},
   "source": [
    "Hopefully you found that interesting and can see some utility in more dynamic diagrams and statistical analysis tools in future labs."
   ]
  }
 ],
 "metadata": {
  "kernelspec": {
   "display_name": "Python 3",
   "language": "python",
   "name": "python3"
  },
  "language_info": {
   "codemirror_mode": {
    "name": "ipython",
    "version": 3
   },
   "file_extension": ".py",
   "mimetype": "text/x-python",
   "name": "python",
   "nbconvert_exporter": "python",
   "pygments_lexer": "ipython3",
   "version": "3.8.3"
  }
 },
 "nbformat": 4,
 "nbformat_minor": 4
}
